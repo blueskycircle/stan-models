{
 "cells": [
  {
   "cell_type": "markdown",
   "id": "2182d81f",
   "metadata": {},
   "source": [
    "# Improving MCMC Efficiency: QR vs. Basic Parameterizations in Bayesian Linear Regression"
   ]
  },
  {
   "cell_type": "markdown",
   "id": "091ec310",
   "metadata": {},
   "source": [
    "## 1. Import Libraries"
   ]
  },
  {
   "cell_type": "code",
   "execution_count": null,
   "id": "903f5dac",
   "metadata": {},
   "outputs": [],
   "source": [
    "import os\n",
    "import sys\n",
    "\n",
    "# Add the library directory to the path so Python can find the modules\n",
    "current_notebook_dir = os.getcwd()\n",
    "library_dir = os.path.join(current_notebook_dir, \"..\", \"library\", \"python\")\n",
    "sys.path.append(library_dir)\n",
    "\n",
    "# Import the needed functions\n",
    "from generate_data import generate_linear_regression_data\n",
    "from run_models import run_stan_model_cmdstanpy\n",
    "from plot import plot_stan_data, plot_trace_plots\n"
   ]
  },
  {
   "cell_type": "markdown",
   "id": "30b7362b",
   "metadata": {},
   "source": [
    "## 2. Generate and Plot Data"
   ]
  },
  {
   "cell_type": "code",
   "execution_count": null,
   "id": "236bfd77",
   "metadata": {},
   "outputs": [],
   "source": [
    "N_data = 200\n",
    "K_features = 5\n",
    "\n",
    "print(f\"--- Generating data for N={N_data}, K={K_features} ---\")\n",
    "stan_data = generate_linear_regression_data(N=N_data, K=K_features, sigma_true=1.5, intercept_true=10.0)"
   ]
  },
  {
   "cell_type": "code",
   "execution_count": null,
   "id": "eb72ee52",
   "metadata": {},
   "outputs": [],
   "source": [
    "plot_stan_data(stan_data)"
   ]
  },
  {
   "cell_type": "markdown",
   "id": "c6539a2d",
   "metadata": {},
   "source": [
    "## 3. Models"
   ]
  },
  {
   "cell_type": "markdown",
   "id": "baaedf56",
   "metadata": {},
   "source": [
    "### 3.1 Basic"
   ]
  },
  {
   "cell_type": "markdown",
   "id": "10bc4fb8",
   "metadata": {},
   "source": [
    "The model that we'll fit is:\n",
    "\n",
    "\\begin{align*}\n",
    "y_{i} &\\sim \\textrm{Normal}(\\mu_{i}, \\sigma^{2}) ~~~ \\textrm{for}~ i=1, ..., N, \\\\\n",
    "\\mu_{i} &= \\alpha + \\mathbf{x}_{i}^{\\top} \\boldsymbol{\\beta}, \\\\\n",
    "\\alpha &\\sim \\textrm{Normal}(0, 10^{2}), \\\\\n",
    "\\boldsymbol{\\beta} &\\sim \\textrm{Normal}(\\boldsymbol{0}, 2.5^{2}\\mathbf{I}), \\\\\n",
    "\\sigma &\\sim \\textrm{Cauchy}(0, 5),\n",
    "\\end{align*}\n",
    "\n",
    "where \n",
    "\n",
    "* $y_{i}$ is the response of the $i$ th observation.\n",
    "* $\\mathbf{x}_{i}$ is the vector of covariate values for the $i$ th observation.\n",
    "* $\\alpha$ is the intercept term.\n",
    "* $\\boldsymbol{\\beta}$ is the vector of effects for the fixed covariates."
   ]
  },
  {
   "cell_type": "markdown",
   "id": "3375b9ba",
   "metadata": {},
   "source": [
    "### 3.2 QR Decomposition"
   ]
  },
  {
   "cell_type": "markdown",
   "id": "01896a94",
   "metadata": {},
   "source": [
    "\n",
    "The QR decomposition factorizes a matrix $\\mathbf{X} \\in \\mathbb{R}^{N \\times P}$ into two components:\n",
    "\n",
    "$$\\mathbf{X} = \\mathbf{Q}\\mathbf{R}$$\n",
    "\n",
    "Where:\n",
    "\n",
    "* $\\mathbf{Q} \\in \\mathbb{R}^{N \\times N}$ is an orthogonal matrix ($\\mathbf{Q}^\\top \\mathbf{Q} = \\mathbf{I}$)\n",
    "* $\\mathbf{R} \\in \\mathbb{R}^{N \\times P}$ is an upper triangular matrix\n",
    "\n",
    "The thin QR decomposition (also called reduced QR decomposition) is more economical when $N > P$ (more observations than predictors):\n",
    "\n",
    "$$\\mathbf{X} = \\tilde{\\mathbf{Q}}\\tilde{\\mathbf{R}}$$\n",
    "\n",
    "Where:\n",
    "\n",
    "* $\\tilde{\\mathbf{Q}} \\in \\mathbb{R}^{N \\times P}$ has orthonormal columns ($\\tilde{\\mathbf{Q}}^\\top\\tilde{\\mathbf{Q}} = \\mathbf{I}$)\n",
    "* $\\tilde{\\mathbf{R}} \\in \\mathbb{R}^{P \\times P}$ is an upper triangular matrix\n",
    "\n",
    "\n",
    "In practical applications of thin QR decomposition, especially in Bayesian regression models, the $\\tilde{\\mathbf{Q}}$ and $\\tilde{\\mathbf{R}}$ matrices are often scaled by $\\sqrt{N-1}$ to produce $\\mathbf{Q}_*$ and $\\mathbf{R}_*$, such that \n",
    "\n",
    "$$\\mathbf{X} = \\mathbf{Q}_* \\mathbf{R}_*$$\n",
    "\n",
    "Where:\n",
    "\n",
    "* $\\mathbf{Q}_* = \\sqrt{N-1} \\cdot \\tilde{\\mathbf{Q}}$\n",
    "* $\\mathbf{R}_* = \\frac{1}{\\sqrt{N-1}} \\cdot \\tilde{\\mathbf{R}}$\n",
    "\n",
    "Using the matrix-vector representation of the design matrix/parameter vector, we can write\n",
    "\n",
    "\\begin{align*}\n",
    "\\boldsymbol{\\mu} &= \\boldsymbol{\\alpha} + \\mathbf{X} \\boldsymbol{\\beta} \\\\\n",
    "&= \\boldsymbol{\\alpha} + \\mathbf{Q}_* \\mathbf{R}_* \\boldsymbol{\\beta} \\\\\n",
    "&= \\boldsymbol{\\alpha} + \\mathbf{Q}_* \\boldsymbol{\\theta} \n",
    "\\end{align*}\n",
    "\n",
    "Letting $\\boldsymbol{\\theta} = \\mathbf{R}_* \\boldsymbol{\\beta}$. We can also recover $\\boldsymbol{\\beta}$ with $\\boldsymbol{\\beta} = \\mathbf{R}_*^{-1} \\boldsymbol{\\theta}$ after sampling."
   ]
  },
  {
   "cell_type": "markdown",
   "id": "06cc7e60",
   "metadata": {},
   "source": [
    "## 4. Results"
   ]
  },
  {
   "cell_type": "code",
   "execution_count": null,
   "id": "9724468f",
   "metadata": {},
   "outputs": [],
   "source": [
    "base_path = os.path.join(current_notebook_dir, \"..\", \"library\", \"stan\")\n",
    "\n",
    "models_to_run = [\n",
    "    {\"name\": \"Gaussian Linear Regression (Basic)\", \n",
    "     \"path\": os.path.join(base_path, \"gaussian_linear_regression.stan\")},\n",
    "    {\"name\": \"Gaussian Linear Regression (QR)\",\n",
    "     \"path\": os.path.join(base_path, \"gaussian_linear_regression_QR.stan\")}\n",
    "]\n",
    "\n",
    "print(\"\\n\\n--- RUNNING MODELS ---\")\n",
    "results = {}\n",
    "for model_info in models_to_run:\n",
    "    current_data = {k: v for k, v in stan_data.items() if k != \"true_params\"}\n",
    "    \n",
    "    idata = run_stan_model_cmdstanpy(\n",
    "        model_name=model_info[\"name\"],\n",
    "        model_code_path=model_info[\"path\"],\n",
    "        stan_data=current_data\n",
    "    )\n",
    "    results[model_info[\"name\"]] = idata\n",
    "\n",
    "print(\"\\n--- All models processed. ---\")"
   ]
  },
  {
   "cell_type": "code",
   "execution_count": null,
   "id": "2eb86cf0",
   "metadata": {},
   "outputs": [],
   "source": [
    "key_params = [\"alpha\", \"beta\", \"sigma\"]\n",
    "plot_trace_plots(results, var_names=key_params)"
   ]
  }
 ],
 "metadata": {
  "kernelspec": {
   "display_name": ".venv",
   "language": "python",
   "name": "python3"
  },
  "language_info": {
   "codemirror_mode": {
    "name": "ipython",
    "version": 3
   },
   "file_extension": ".py",
   "mimetype": "text/x-python",
   "name": "python",
   "nbconvert_exporter": "python",
   "pygments_lexer": "ipython3",
   "version": "3.11.5"
  }
 },
 "nbformat": 4,
 "nbformat_minor": 5
}
